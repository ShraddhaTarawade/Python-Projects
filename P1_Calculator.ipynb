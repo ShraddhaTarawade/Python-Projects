{
 "cells": [
  {
   "cell_type": "markdown",
   "id": "39ae65a6",
   "metadata": {},
   "source": [
    "# QUE :-\n",
    "Create a scientific calculator to perform following mathematical oprations.<br>\n",
    "⚫Addition<br>\n",
    "⚫Subraction<br>\n",
    "⚫Multiplication.<br>\n",
    "⚫Division<br>\n",
    "⚫And operation<br>\n",
    "⚫Or operation<br>\n",
    "⚫Noroperation.<br>\n",
    "⚫Factorial<br>\n",
    "⚫Fibonacci<br>\n",
    "⚫Permutation<br>\n",
    "⚫Integer reverse<br>\n",
    "⚫Combination<br>\n",
    "⚫Mean, median and mode<br>\n",
    "⚫Dictionary, variance and standard deviation<br>\n",
    "⚫Testing operation<br>"
   ]
  },
  {
   "cell_type": "code",
   "execution_count": 33,
   "id": "348888cd",
   "metadata": {},
   "outputs": [],
   "source": [
    "def Addition():\n",
    "    a=int(input(\"Enter 1st number: \"))\n",
    "    b=int(input(\"Enter 2nd number: \"))\n",
    "    return(a+b)"
   ]
  },
  {
   "cell_type": "code",
   "execution_count": 34,
   "id": "9a5b27f3",
   "metadata": {},
   "outputs": [],
   "source": [
    "def Subtraction():\n",
    "    a=int(input(\"Enter 1st number: \"))\n",
    "    b=int(input(\"Enter 2nd number: \"))\n",
    "    return(a-b)"
   ]
  },
  {
   "cell_type": "code",
   "execution_count": 35,
   "id": "f38b5e1f",
   "metadata": {},
   "outputs": [],
   "source": [
    "def Multiplication():\n",
    "    a=int(input(\"Enter 1st number: \"))\n",
    "    b=int(input(\"Enter 2nd number: \"))\n",
    "    return(a*b)"
   ]
  },
  {
   "cell_type": "code",
   "execution_count": 36,
   "id": "7c167d25",
   "metadata": {},
   "outputs": [],
   "source": [
    "def Division():\n",
    "    a=int(input(\"Enter 1st number: \"))\n",
    "    b=int(input(\"Enter 2nd number: \"))\n",
    "    if(b==0):\n",
    "        print(\"Not define\")\n",
    "    else:\n",
    "        return(a/b)        "
   ]
  },
  {
   "cell_type": "code",
   "execution_count": 37,
   "id": "beaa6e22",
   "metadata": {},
   "outputs": [],
   "source": [
    "def And():\n",
    "    a=int(input(\"Enter 1st number: \"))\n",
    "    b=int(input(\"Enter 2nd number: \"))\n",
    "    return(a & b)"
   ]
  },
  {
   "cell_type": "code",
   "execution_count": 38,
   "id": "264fa4d3",
   "metadata": {},
   "outputs": [],
   "source": [
    "def Or():\n",
    "    a=int(input(\"Enter 1st number: \"))\n",
    "    b=int(input(\"Enter 2nd number: \"))\n",
    "    return(a | b)"
   ]
  },
  {
   "cell_type": "code",
   "execution_count": 39,
   "id": "6f7d08ce",
   "metadata": {},
   "outputs": [],
   "source": [
    "def Nor():\n",
    "    a=int(input(\"Enter number: \"))\n",
    "    return(~ a)"
   ]
  },
  {
   "cell_type": "code",
   "execution_count": 40,
   "id": "fe80c50c",
   "metadata": {},
   "outputs": [],
   "source": [
    "def Factorial():\n",
    "    num = int(input(\"Enter number: \"))\n",
    "    fact=1\n",
    "    for i in range(1,num+1):\n",
    "        if(i==0):\n",
    "            print(\"1\")\n",
    "        else:    \n",
    "            fact=fact*i\n",
    "        \n",
    "    print(fact)"
   ]
  },
  {
   "cell_type": "code",
   "execution_count": 41,
   "id": "e209a3fc",
   "metadata": {},
   "outputs": [],
   "source": [
    "def Fibonacci(n):\n",
    "    if n<0:\n",
    "        print(\"Incorrect input\")\n",
    "    elif n==0:\n",
    "        return 0\n",
    "    elif n==1 or n==2:\n",
    "        return 1\n",
    "    else:\n",
    "        return Fibonacci(n-1) + Fibonacci(n-2)   "
   ]
  },
  {
   "cell_type": "code",
   "execution_count": 42,
   "id": "496cb48c",
   "metadata": {},
   "outputs": [],
   "source": [
    "def Permutation():\n",
    "    from itertools import permutations\n",
    "    num=(input(\"Enter number: \"))\n",
    "    ls = num.split(\" \")\n",
    "    length=int(input())\n",
    "    prem=permutations(list(ls),length)\n",
    "    for i in prem:\n",
    "        print(i)"
   ]
  },
  {
   "cell_type": "code",
   "execution_count": 43,
   "id": "d430febc",
   "metadata": {},
   "outputs": [],
   "source": [
    "def combination():\n",
    "    from itertools import combinations\n",
    "    num=(input(\"Enter number: \"))\n",
    "    ls = num.split(\" \")\n",
    "    length=int(input())\n",
    "    prem=combinations(list(ls),length)\n",
    "    for i in prem:\n",
    "        (print(i))"
   ]
  },
  {
   "cell_type": "code",
   "execution_count": 44,
   "id": "3b35c7a9",
   "metadata": {},
   "outputs": [],
   "source": [
    "def int_rev():\n",
    "    num=input(\"Enter number: \")\n",
    "    print(num[::-1])"
   ]
  },
  {
   "cell_type": "code",
   "execution_count": 45,
   "id": "6c6f7ed6",
   "metadata": {},
   "outputs": [],
   "source": [
    "def Mean():\n",
    "    num= list(map(int, input(\"Enter number: \").split()))\n",
    "    import statistics\n",
    "    x=statistics.mean(num)\n",
    "    print(x)"
   ]
  },
  {
   "cell_type": "code",
   "execution_count": 46,
   "id": "c48f501b",
   "metadata": {},
   "outputs": [],
   "source": [
    "def Median():\n",
    "    num= list(map(int, input(\"Enter number: \").split()))\n",
    "    import statistics\n",
    "    x=statistics.median(num)\n",
    "    print(x)"
   ]
  },
  {
   "cell_type": "code",
   "execution_count": 47,
   "id": "6643e5ae",
   "metadata": {},
   "outputs": [],
   "source": [
    "def Mode():\n",
    "    num= list(map(int, input(\"Enter number: \").split()))\n",
    "    import statistics\n",
    "    x=statistics.mode(num)\n",
    "    print(x)"
   ]
  },
  {
   "cell_type": "code",
   "execution_count": 48,
   "id": "e01507f9",
   "metadata": {},
   "outputs": [],
   "source": [
    "def dictionary():\n",
    "    a={}\n",
    "    n=int(input(\"Number of elements: \"))\n",
    "    for i in range(n):\n",
    "        k=input(\"Enter the key:\")\n",
    "        v=input(\"Enter the value:\")\n",
    "        a.update({k:v})\n",
    "    print(a)  "
   ]
  },
  {
   "cell_type": "code",
   "execution_count": 49,
   "id": "5c73584f",
   "metadata": {},
   "outputs": [],
   "source": [
    "def Std():\n",
    "    num= list(map(int, input(\"Enter number\").split()))\n",
    "    import statistics\n",
    "    x=statistics.stdev(num)\n",
    "    print(x)"
   ]
  },
  {
   "cell_type": "code",
   "execution_count": 50,
   "id": "0c898bb8",
   "metadata": {},
   "outputs": [],
   "source": [
    "def Varience():\n",
    "    num= list(map(int, input(\"Enter number\").split()))\n",
    "    import statistics\n",
    "    x=statistics.variance(num)\n",
    "    print(x)    "
   ]
  },
  {
   "cell_type": "code",
   "execution_count": 51,
   "id": "cc8c5853",
   "metadata": {},
   "outputs": [
    {
     "name": "stdout",
     "output_type": "stream",
     "text": [
      "runTest (__main__.MyTestCase)\n"
     ]
    }
   ],
   "source": [
    "import unittest\n",
    "\n",
    "\n",
    "class MyTestCase(unittest.TestCase):\n",
    "    def Addition():\n",
    "        a=int(input(\"Enter 1st number\"))\n",
    "        b=int(input(\"Enter 2nd number\"))\n",
    "        return(a+b) \n",
    "print(MyTestCase())"
   ]
  },
  {
   "cell_type": "code",
   "execution_count": 52,
   "id": "e97ff0c8",
   "metadata": {},
   "outputs": [
    {
     "name": "stdout",
     "output_type": "stream",
     "text": [
      "Enter the operation you want\n",
      "1.Addition\n",
      "2.Subtraction\n",
      "3.Multiplication\n",
      "4.Division\n",
      "5.And operation\n",
      "6.Or operation\n",
      "7.Nor operation\n",
      "8.Factorial\n",
      "9.Fibonacci\n",
      "10.Permutation\n",
      "11.Integer reverse\n",
      "12.Combination\n",
      "13.Mean\n",
      "14.Median\n",
      "15.Mode\n",
      "16.Dictionary\n",
      "17.Variance\n",
      "18.Standard deviation\n"
     ]
    }
   ],
   "source": [
    "print(\"Enter the operation you want\")\n",
    "print(\"1.Addition\")\n",
    "print(\"2.Subtraction\")\n",
    "print(\"3.Multiplication\")\n",
    "print(\"4.Division\")\n",
    "print(\"5.And operation\")\n",
    "print(\"6.Or operation\")\n",
    "print(\"7.Nor operation\")\n",
    "print(\"8.Factorial\")\n",
    "print(\"9.Fibonacci\")\n",
    "print(\"10.Permutation\")\n",
    "print(\"11.Integer reverse\")\n",
    "print(\"12.Combination\")\n",
    "print(\"13.Mean\")\n",
    "print(\"14.Median\")\n",
    "print(\"15.Mode\")\n",
    "print(\"16.Dictionary\")\n",
    "print(\"17.Variance\")\n",
    "print(\"18.Standard deviation\")"
   ]
  },
  {
   "cell_type": "code",
   "execution_count": 53,
   "id": "ccb10ee2",
   "metadata": {},
   "outputs": [
    {
     "name": "stdout",
     "output_type": "stream",
     "text": [
      "Enter operation no.4\n",
      "Enter 1st number: 8\n",
      "Enter 2nd number: 5\n",
      "1.6\n"
     ]
    }
   ],
   "source": [
    "operation = int(input(\"Enter operation no.\"))\n",
    "\n",
    "if operation==1:\n",
    "    print(Addition())\n",
    "elif operation==2:\n",
    "    print(Subtraction())\n",
    "elif operation==3:\n",
    "    print(Multiplication())\n",
    "elif operation==4:\n",
    "    print(Division())\n",
    "elif operation==5:\n",
    "    print(And())\n",
    "elif operation==6:\n",
    "    print(Or)    \n",
    "elif operation==7:\n",
    "    print(Nor)\n",
    "elif operation==8:\n",
    "    print(Factorial())\n",
    "elif operation==9:\n",
    "    print(Fibonacci(n=int(input())))    \n",
    "elif operation==10:\n",
    "    print(Permutation())\n",
    "elif operation==11:\n",
    "    print(Combination())    \n",
    "elif operation==12:\n",
    "    print(int_rev())       \n",
    "elif operation==13:\n",
    "    print(Mean())    \n",
    "elif operation==14:\n",
    "    print(Median())    \n",
    "elif operation==15:\n",
    "    print(Mode())    \n",
    "elif operation==16:\n",
    "    print(dictionary())  \n",
    "elif operation==17:\n",
    "    print(Std())    \n",
    "elif operation==18:\n",
    "    print(Varience())  \n",
    "else:\n",
    "    print(\"Enter the valid operation\")\n",
    "                            "
   ]
  },
  {
   "cell_type": "code",
   "execution_count": null,
   "id": "113d7c96",
   "metadata": {},
   "outputs": [],
   "source": []
  }
 ],
 "metadata": {
  "kernelspec": {
   "display_name": "Python 3 (ipykernel)",
   "language": "python",
   "name": "python3"
  },
  "language_info": {
   "codemirror_mode": {
    "name": "ipython",
    "version": 3
   },
   "file_extension": ".py",
   "mimetype": "text/x-python",
   "name": "python",
   "nbconvert_exporter": "python",
   "pygments_lexer": "ipython3",
   "version": "3.10.2"
  }
 },
 "nbformat": 4,
 "nbformat_minor": 5
}
